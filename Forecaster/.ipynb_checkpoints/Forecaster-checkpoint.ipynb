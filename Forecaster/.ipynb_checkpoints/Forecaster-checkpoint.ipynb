{
 "cells": [
  {
   "cell_type": "markdown",
   "id": "0a66f8fb",
   "metadata": {},
   "source": [
    "<b> Libraries: </b>"
   ]
  },
  {
   "cell_type": "code",
   "execution_count": null,
   "id": "27505323",
   "metadata": {},
   "outputs": [],
   "source": [
    "import pandas as pd\n",
    "import datetime\n",
    "pd.plotting.register_matplotlib_converters()\n",
    "import io\n",
    "import requests\n",
    "import numpy as np\n",
    "%matplotlib inline\n",
    "import matplotlib.dates as dt\n",
    "import matplotlib.pyplot as plt\n",
    "from statsmodels.tsa.arima_model import ARIMA\n",
    "import pmdarima as pm\n",
    "plt.rcParams['figure.figsize']=[30,37*20]"
   ]
  },
  {
   "cell_type": "markdown",
   "id": "fca82ec3",
   "metadata": {},
   "source": [
    "<b>Reading File:</b>"
   ]
  },
  {
   "cell_type": "code",
   "execution_count": null,
   "id": "afed7273",
   "metadata": {},
   "outputs": [],
   "source": [
    "url='https://api.covid19india.org/csv/latest/cowin_vaccine_data_statewise.csv'\n",
    "response=requests.get(url).content\n",
    "data=pd.read_csv(io.StringIO(response.decode('utf-8')),parse_dates=['Updated On'],date_parser=lambda s:datetime.datetime.strptime(s,'%d/%m/%Y'))\n",
    "data.head()"
   ]
  },
  {
   "cell_type": "code",
   "execution_count": null,
   "id": "3ad51f4d",
   "metadata": {},
   "outputs": [],
   "source": [
    "data.info()"
   ]
  },
  {
   "cell_type": "markdown",
   "id": "03365916",
   "metadata": {},
   "source": [
    "<b> Visualisation: </b>"
   ]
  },
  {
   "cell_type": "code",
   "execution_count": null,
   "id": "9187bbe7",
   "metadata": {},
   "outputs": [],
   "source": [
    "states=data.State.unique()\n",
    "states"
   ]
  },
  {
   "cell_type": "code",
   "execution_count": null,
   "id": "c846168e",
   "metadata": {},
   "outputs": [],
   "source": [
    "def sameplt(s,title):\n",
    "    plt.figure(figsize=(30,25))\n",
    "    plt.title(title)\n",
    "    for state in states:\n",
    "        if (state=='India'):\n",
    "            continue\n",
    "        sub=data.loc[data.State==state]\n",
    "        sub=sub[sub[s].notnull()]\n",
    "        sub.sort_values(s)\n",
    "        X=pd.to_datetime(sub['Updated On'].dt.strftime('%Y-%m-%d'))\n",
    "        y=sub[s]\n",
    "        plt.plot(X,y,label=state)\n",
    "    plt.xlabel('Date')\n",
    "    plt.ylabel(s)\n",
    "    plt.gca().xaxis.set_major_formatter(dt.DateFormatter('%Y-%m-%d'))\n",
    "    plt.gca().xaxis.set_major_locator(dt.DayLocator(interval=5))\n",
    "    plt.gcf().autofmt_xdate()\n",
    "    plt.legend()\n",
    "    title='same '+title\n",
    "    plt.savefig(title+'.png',bbox_inches='tight')\n",
    "    plt.show()"
   ]
  },
  {
   "cell_type": "code",
   "execution_count": null,
   "id": "a97831e7",
   "metadata": {},
   "outputs": [],
   "source": [
    "def diffplt(s,title):\n",
    "    plt.figure(figsize=(30,37*20))\n",
    "    figures,ax=plt.subplots(37,1)\n",
    "    i=0\n",
    "    for state in states:\n",
    "        sub=data.loc[data.State==state]\n",
    "        sub=sub[sub[s].notnull()]\n",
    "        X=pd.to_datetime(sub['Updated On'].dt.strftime('%Y-%m-%d')) \n",
    "        y=sub[s]\n",
    "        ax[i].plot(X,y)\n",
    "        ax[i].set_title(state)\n",
    "        i+=1\n",
    "    plt.xlabel('Date')\n",
    "    plt.ylabel(s)\n",
    "    plt.suptitle(title)\n",
    "    plt.gca().xaxis.set_major_formatter(dt.DateFormatter('%Y-%m-%d'))\n",
    "    plt.gca().xaxis.set_major_locator(dt.DayLocator(interval=5))\n",
    "    plt.gcf().autofmt_xdate()\n",
    "    title='diff '+title\n",
    "    plt.savefig(title+'.png',bbox_inches='tight')\n",
    "    plt.show()"
   ]
  },
  {
   "cell_type": "code",
   "execution_count": null,
   "id": "7b57a9eb",
   "metadata": {},
   "outputs": [],
   "source": [
    "sameplt('Total Individuals Vaccinated','Statewise Analysis: Total Individuals Vaccinated')"
   ]
  },
  {
   "cell_type": "code",
   "execution_count": null,
   "id": "772a64fd",
   "metadata": {},
   "outputs": [],
   "source": [
    "diffplt('Total Individuals Vaccinated','Statewise Analysis: Total Individuals Vaccinated')"
   ]
  },
  {
   "cell_type": "code",
   "execution_count": null,
   "id": "6d42d3c3",
   "metadata": {},
   "outputs": [],
   "source": [
    "sameplt('Total Sessions Conducted','Statewise Analysis: Total Sessions Conducted')"
   ]
  },
  {
   "cell_type": "code",
   "execution_count": null,
   "id": "9c417085",
   "metadata": {},
   "outputs": [],
   "source": [
    "diffplt('Total Sessions Conducted','Statewise Analysis: Total Sessions Conducted')"
   ]
  },
  {
   "cell_type": "code",
   "execution_count": null,
   "id": "6de598b1",
   "metadata": {},
   "outputs": [],
   "source": [
    "sameplt('Total Sites ','Statewise Analysis: Total Sites')"
   ]
  },
  {
   "cell_type": "code",
   "execution_count": null,
   "id": "51771203",
   "metadata": {},
   "outputs": [],
   "source": [
    "diffplt('Total Sites ','Statewise Analysis: Total Sites')"
   ]
  },
  {
   "cell_type": "code",
   "execution_count": null,
   "id": "3c6378b7",
   "metadata": {},
   "outputs": [],
   "source": [
    "sameplt('First Dose Administered','Statewise Analysis: First Dose')"
   ]
  },
  {
   "cell_type": "code",
   "execution_count": null,
   "id": "c296fec4",
   "metadata": {},
   "outputs": [],
   "source": [
    "diffplt('First Dose Administered','Statewise Analysis: First Dose')"
   ]
  },
  {
   "cell_type": "code",
   "execution_count": null,
   "id": "d6aa30d9",
   "metadata": {},
   "outputs": [],
   "source": [
    "sameplt('Second Dose Administered','Statewise Analysis: Second Dose')"
   ]
  },
  {
   "cell_type": "code",
   "execution_count": null,
   "id": "201162b4",
   "metadata": {},
   "outputs": [],
   "source": [
    "diffplt('Second Dose Administered','Statewise Analysis: Second Dose')"
   ]
  },
  {
   "cell_type": "code",
   "execution_count": null,
   "id": "d8947dc9",
   "metadata": {},
   "outputs": [],
   "source": [
    "sameplt('Male(Individuals Vaccinated)','Statewise Analysis: Male')"
   ]
  },
  {
   "cell_type": "code",
   "execution_count": null,
   "id": "c53d1bd6",
   "metadata": {},
   "outputs": [],
   "source": [
    "diffplt('Male(Individuals Vaccinated)','Statewise Analysis: Male')"
   ]
  },
  {
   "cell_type": "code",
   "execution_count": null,
   "id": "f0b52212",
   "metadata": {},
   "outputs": [],
   "source": [
    "sameplt('Female(Individuals Vaccinated)','Statewise Analysis: Female')"
   ]
  },
  {
   "cell_type": "code",
   "execution_count": null,
   "id": "d9c0dc63",
   "metadata": {},
   "outputs": [],
   "source": [
    "diffplt('Female(Individuals Vaccinated)','Statewise Analysis: Female')"
   ]
  },
  {
   "cell_type": "code",
   "execution_count": null,
   "id": "7e009747",
   "metadata": {},
   "outputs": [],
   "source": [
    "sameplt('Transgender(Individuals Vaccinated)','Statewise Analysis: Transgender')"
   ]
  },
  {
   "cell_type": "code",
   "execution_count": null,
   "id": "1f20ce74",
   "metadata": {},
   "outputs": [],
   "source": [
    "diffplt('Transgender(Individuals Vaccinated)','Statewise Analysis: Transgender')"
   ]
  },
  {
   "cell_type": "code",
   "execution_count": null,
   "id": "fbe11e11",
   "metadata": {},
   "outputs": [],
   "source": [
    "sameplt('Total Covaxin Administered','Statewise Analysis: Covaxin')"
   ]
  },
  {
   "cell_type": "code",
   "execution_count": null,
   "id": "9bfb3efc",
   "metadata": {},
   "outputs": [],
   "source": [
    "diffplt('Total Covaxin Administered','Statewise Analysis: Covaxin')"
   ]
  },
  {
   "cell_type": "code",
   "execution_count": null,
   "id": "aa2fa05f",
   "metadata": {},
   "outputs": [],
   "source": [
    "sameplt('Total CoviShield Administered','Statewise Analysis: CoviShield')"
   ]
  },
  {
   "cell_type": "code",
   "execution_count": null,
   "id": "b5787b70",
   "metadata": {},
   "outputs": [],
   "source": [
    "diffplt('Total CoviShield Administered','Statewise Analysis: CoviShield')"
   ]
  },
  {
   "cell_type": "code",
   "execution_count": null,
   "id": "59f59dd8",
   "metadata": {},
   "outputs": [],
   "source": [
    "sameplt('Total Sputnik V Administered','Statewise Analysis: Sputnik V')"
   ]
  },
  {
   "cell_type": "code",
   "execution_count": null,
   "id": "dce10848",
   "metadata": {},
   "outputs": [],
   "source": [
    "diffplt('Total Sputnik V Administered','Statewise Analysis: Sputnik V')"
   ]
  },
  {
   "cell_type": "code",
   "execution_count": null,
   "id": "c96d6060",
   "metadata": {},
   "outputs": [],
   "source": [
    "sameplt('18-45 years (Age)','Statewise Analysis: 18-45')"
   ]
  },
  {
   "cell_type": "code",
   "execution_count": null,
   "id": "9d161a2e",
   "metadata": {},
   "outputs": [],
   "source": [
    "diffplt('18-45 years (Age)','Statewise Analysis: 18-45')"
   ]
  },
  {
   "cell_type": "code",
   "execution_count": null,
   "id": "96ba570b",
   "metadata": {},
   "outputs": [],
   "source": [
    "sameplt('45-60 years (Age)','Statewise Analysis: 45-60')"
   ]
  },
  {
   "cell_type": "code",
   "execution_count": null,
   "id": "73d78440",
   "metadata": {},
   "outputs": [],
   "source": [
    "diffplt('45-60 years (Age)','Statewise Analysis: 45-60')"
   ]
  },
  {
   "cell_type": "code",
   "execution_count": null,
   "id": "4730886d",
   "metadata": {},
   "outputs": [],
   "source": [
    "sameplt('60+ years (Age)','Statewise Analysis: 60+')"
   ]
  },
  {
   "cell_type": "code",
   "execution_count": null,
   "id": "827158cf",
   "metadata": {},
   "outputs": [],
   "source": [
    "diffplt('60+ years (Age)','Statewise Analysis: 60+')"
   ]
  },
  {
   "cell_type": "code",
   "execution_count": null,
   "id": "b1803ac8",
   "metadata": {},
   "outputs": [],
   "source": [
    "def cmpplt(s1,s2,s3,title):\n",
    "    plt.figure(figsize=(30,37*20))\n",
    "    figures,ax=plt.subplots(37,1)\n",
    "    i=0\n",
    "    for state in states:\n",
    "        for s in [s1,s2,s3]:\n",
    "            sub=data.loc[data.State==state]\n",
    "            sub=sub[sub[s].notnull()]\n",
    "            X=pd.to_datetime(sub['Updated On'].dt.strftime('%Y-%m-%d')) \n",
    "            y=sub[s]\n",
    "            ax[i].plot(X,y,label=s)\n",
    "        ax[i].legend()\n",
    "        ax[i].set_title(title+' : '+state)\n",
    "        i+=1\n",
    "    plt.xlabel('Date')\n",
    "    plt.ylabel(s)\n",
    "    plt.suptitle(title)\n",
    "    plt.gca().xaxis.set_major_formatter(dt.DateFormatter('%Y-%m-%d'))\n",
    "    plt.gca().xaxis.set_major_locator(dt.DayLocator(interval=5))\n",
    "    plt.gcf().autofmt_xdate()\n",
    "    plt.savefig(title+'.png',bbox_inches='tight')\n",
    "    plt.show()"
   ]
  },
  {
   "cell_type": "code",
   "execution_count": null,
   "id": "d7be5159",
   "metadata": {},
   "outputs": [],
   "source": [
    "cmpplt('18-45 years (Age)','45-60 years (Age)','60+ years (Age)','Age Comparison')"
   ]
  },
  {
   "cell_type": "code",
   "execution_count": null,
   "id": "339bb3c2",
   "metadata": {},
   "outputs": [],
   "source": [
    "cmpplt('Male(Individuals Vaccinated)','Female(Individuals Vaccinated)','Transgender(Individuals Vaccinated)','Gender Comparison')"
   ]
  },
  {
   "cell_type": "code",
   "execution_count": null,
   "id": "09564236",
   "metadata": {},
   "outputs": [],
   "source": [
    "cmpplt('Total Covaxin Administered','Total CoviShield Administered','Total Sputnik V Administered','Vaccine Comparison')"
   ]
  },
  {
   "cell_type": "markdown",
   "id": "4e45092f",
   "metadata": {},
   "source": [
    "<b> Forecasting: </b>"
   ]
  },
  {
   "cell_type": "code",
   "execution_count": null,
   "id": "2adcd37e",
   "metadata": {},
   "outputs": [],
   "source": [
    "def modelcreator(s):\n",
    "    models={}\n",
    "    vals={}\n",
    "    for state in states:\n",
    "        sub=data.loc[data.State==state]\n",
    "        sub=sub[sub[s].notnull()]\n",
    "        sub['Updated On']=pd.to_datetime(sub['Updated On'].dt.strftime('%Y-%m-%d'))\n",
    "        sub.index_col=0\n",
    "        val=sub[s].values\n",
    "        vals[state]=val\n",
    "        model=pm.auto_arima(val,start_p=1,start_q=1,test='adf',max_p=3,max_q=3,m=1,d=None,seasonal=False,start_P=0,D=0,trace=True,error_action='ignore',suppress_warnings=True,stepwise=True)\n",
    "        models[state]=model\n",
    "    return (models,vals)"
   ]
  },
  {
   "cell_type": "code",
   "execution_count": null,
   "id": "6cc30e25",
   "metadata": {},
   "outputs": [],
   "source": [
    "def forecaster(models,vals,s):\n",
    "    plt.figure(figsize=(30,37*20))\n",
    "    figures,axis=plt.subplots(37,1)\n",
    "    i=0\n",
    "    n_periods=10\n",
    "    for state in states:\n",
    "        fc, confint = models[state].predict(n_periods=n_periods, return_conf_int=True)\n",
    "        index=np.arange(len(vals[state]),len(vals[state])+n_periods)\n",
    "        fc_series = pd.Series(fc, index=index)\n",
    "        lower_series = pd.Series(confint[:, 0], index=index)\n",
    "        upper_series = pd.Series(confint[:, 1], index=index)\n",
    "        axis[i].plot(vals[state])\n",
    "        axis[i].plot(fc_series)\n",
    "        axis[i].fill_between(lower_series.index,lower_series,upper_series,alpha=0.1)\n",
    "        axis[i].set_title(state)\n",
    "        i+=1\n",
    "    plt.xlabel('Days since start of vaccination drive')\n",
    "    plt.ylabel(s)\n",
    "    plt.suptitle('Forecast: '+s)\n",
    "    s='Forecast: '+s\n",
    "    plt.savefig(s+'.png',bbox_inches='tight')\n",
    "    plt.show()"
   ]
  },
  {
   "cell_type": "code",
   "execution_count": null,
   "id": "fddb47a5",
   "metadata": {},
   "outputs": [],
   "source": [
    "(models,vals)=modelcreator('Total Individuals Vaccinated')\n",
    "forecaster(models,vals,'Total Individuals Vaccinated')"
   ]
  },
  {
   "cell_type": "code",
   "execution_count": null,
   "id": "4ef1980b",
   "metadata": {},
   "outputs": [],
   "source": [
    "(models,vals)=modelcreator('Male(Individuals Vaccinated)')\n",
    "forecaster(models,vals,'Male(Individuals Vaccinated)')"
   ]
  },
  {
   "cell_type": "code",
   "execution_count": null,
   "id": "68541bf9",
   "metadata": {},
   "outputs": [],
   "source": [
    "(models,vals)=modelcreator('Female(Individuals Vaccinated)')\n",
    "forecaster(models,vals,'Female(Individuals Vaccinated)')"
   ]
  },
  {
   "cell_type": "code",
   "execution_count": null,
   "id": "03eb2332",
   "metadata": {},
   "outputs": [],
   "source": [
    "(models,vals)=modelcreator('Transgender(Individuals Vaccinated)')\n",
    "forecaster(models,vals,'Transgender(Individuals Vaccinated)')"
   ]
  },
  {
   "cell_type": "code",
   "execution_count": null,
   "id": "e9c5f660",
   "metadata": {},
   "outputs": [],
   "source": [
    "(models,vals)=modelcreator('Total Covaxin Administered')\n",
    "forecaster(models,vals,'Total Covaxin Administered')"
   ]
  },
  {
   "cell_type": "code",
   "execution_count": null,
   "id": "ed53d0ac",
   "metadata": {},
   "outputs": [],
   "source": [
    "(models,vals)=modelcreator('Total CoviShield Administered')\n",
    "forecaster(models,vals,'Total CoviShield Administered')"
   ]
  },
  {
   "cell_type": "code",
   "execution_count": null,
   "id": "cdcbf99f",
   "metadata": {},
   "outputs": [],
   "source": [
    "(models,vals)=modelcreator('18-45 years (Age)')\n",
    "forecaster(models,vals,'18-45 years (Age)')"
   ]
  },
  {
   "cell_type": "code",
   "execution_count": null,
   "id": "2daf2011",
   "metadata": {},
   "outputs": [],
   "source": [
    "(models,vals)=modelcreator('45-60 years (Age)')\n",
    "forecaster(models,vals,'45-60 years (Age)')"
   ]
  },
  {
   "cell_type": "code",
   "execution_count": null,
   "id": "ef6a36a1",
   "metadata": {},
   "outputs": [],
   "source": [
    "(models,vals)=modelcreator('60+ years (Age)')\n",
    "forecaster(models,vals,'60+ years (Age)')"
   ]
  }
 ],
 "metadata": {
  "kernelspec": {
   "display_name": "Python 3",
   "language": "python",
   "name": "python3"
  },
  "language_info": {
   "codemirror_mode": {
    "name": "ipython",
    "version": 3
   },
   "file_extension": ".py",
   "mimetype": "text/x-python",
   "name": "python",
   "nbconvert_exporter": "python",
   "pygments_lexer": "ipython3",
   "version": "3.8.5"
  }
 },
 "nbformat": 4,
 "nbformat_minor": 5
}
